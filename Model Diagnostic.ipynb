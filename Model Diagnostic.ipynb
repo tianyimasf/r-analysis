{
 "cells": [
  {
   "cell_type": "markdown",
   "id": "dd1bae55-301f-49f1-934d-54f74c073b54",
   "metadata": {},
   "source": [
    "# Homework 5\n",
    "***\n",
    "\n",
    "**Name**: Alex Ma\n",
    "\n",
    "***\n",
    "\n",
    "This assignment is due on Gradescope by **Friday March 14 at 5:00PM**. If you submit the assignment  by this deadline, you will receive 2 bonus points. If you need a little extra time, you may submit your work by **Monday March 17 at 5:00PM**. Your solutions to theoretical questions should be done in Markdown directly below the associated question.  Your solutions to computational questions should include any specified R code and results as well as written commentary on your conclusions.  Remember that you are encouraged to discuss the problems with your classmates, but **you must write all code and solutions on your own**.\n",
    "\n",
    "**NOTES**: \n",
    "\n",
    "- There are 3 total questions on this assignment. \n",
    "- If you're not familiar with typesetting math directly into Markdown then by all means, do your work on paper first and then typeset it later.  Remember that there is a [reference guide](https://math.meta.stackexchange.com/questions/5020/mathjax-basic-tutorial-and-quick-reference) linked here. **All** of your written commentary, justifications and mathematical work should be in Markdown.\n",
    "- Because you can technically evaluate notebook cells in a non-linear order, it's a good idea to do Kernel $\\rightarrow$ Restart & Run All as a check before submitting your solutions.  That way if we need to run your code you will know that it will work as expected. \n",
    "- It is **bad form** to make your reader interpret numerical output from your code.  If a question asks you to compute some value from the data you should show your code output **AND** write a summary of the results in Markdown directly below your code. \n",
    "- This probably goes without saying, but... For any question that asks you to calculate something, you **must show all work and justify your answers to receive credit**. Sparse or nonexistent work will receive sparse or nonexistent credit. \n",
    "\n",
    "\n",
    "\n",
    "---"
   ]
  },
  {
   "cell_type": "markdown",
   "id": "fb77ff51-28eb-4250-b2b7-b19c165f5048",
   "metadata": {},
   "source": [
    "## Problem 1 (15 points)"
   ]
  },
  {
   "cell_type": "markdown",
   "id": "e022ad22-ceee-4416-b395-120236274b88",
   "metadata": {},
   "source": [
    "**PART A:** Prove that the adjusted $R^2$ is always less than $R^2$."
   ]
  },
  {
   "cell_type": "markdown",
   "id": "c97f7f99-f94e-41a7-9c1c-03d99b373b60",
   "metadata": {},
   "source": [
    "**Answer**\n",
    "\n",
    "$$\\begin{align*}\n",
    "\\textit{Adjusted } R^2 &= 1 - \\frac{(1 - R^2)(n - 1)}{n - p - 1} \\\\\n",
    "                        &= 1 - \\left(1 - \\left(1 - \\frac{SSR}{SST}\\right)\\right)(\\frac{n - 1}{n - p - 1}) \\\\\n",
    "                        &= 1 - \\left(1 - 1 + \\frac{SSR}{SST}\\right)(\\frac{n - 1}{n - p - 1}) \\\\\n",
    "                        &= \\left(1 - \\frac{SSR}{SST}\\right)(\\frac{n - 1}{n - p - 1}) \\\\\n",
    "                        &= R^2 \\cdot \\frac{n - 1}{n - p - 1} \\text{ assume $p \\geq 1$, $p = $ number of features} \\\\\n",
    "                        &< R^2\n",
    "\\end{align*}$$"
   ]
  },
  {
   "cell_type": "markdown",
   "id": "3851d833-ab05-4b75-b048-a7e47b8cf8ef",
   "metadata": {},
   "source": [
    "## Problem 2 Comparing Model Selection Techniques (45 points)\n",
    "\n",
    "Recall again, the Amazon book data. The data consists of data on $n = 325$ books and includes measurements of:\n",
    "\n",
    "- `aprice`: The price listed on Amazon (dollars)\n",
    "\n",
    "\n",
    "- `lprice`: The book's list price (dollars)\n",
    "\n",
    "\n",
    "- `weight`: The book's weight (ounces)\n",
    "\n",
    "\n",
    "- `pages`: The number of pages in the book\n",
    "\n",
    "\n",
    "- `height`: The book's height (inches)\n",
    "\n",
    "\n",
    "- `width`: The book's width (inches)\n",
    "\n",
    "\n",
    "- `thick`: The thickness of the book (inches)\n",
    "\n",
    "\n",
    "- `cover`: Whether the book is a hard cover of paperback.\n",
    "\n",
    "\n",
    "- And other variables...\n",
    "\n",
    "We'll explore various models to predict `aprice`. But first, we'll repeat the data cleaning from our lesson on t-tests. We'll also split the data into a training set and a test/validation set."
   ]
  },
  {
   "cell_type": "code",
   "execution_count": 24,
   "id": "ebe43bdd-e22d-4245-bf1a-b92359f828c9",
   "metadata": {},
   "outputs": [
    {
     "name": "stderr",
     "output_type": "stream",
     "text": [
      "Warning message:\n",
      "\"package 'corrplot' is in use and will not be installed\"\n"
     ]
    },
    {
     "data": {
      "text/html": [
       "<style>\n",
       ".list-inline {list-style: none; margin:0; padding: 0}\n",
       ".list-inline>li {display: inline-block}\n",
       ".list-inline>li:not(:last-child)::after {content: \"\\00b7\"; padding: 0 .5ex}\n",
       "</style>\n",
       "<ol class=list-inline><li>'Title'</li><li>'Author'</li><li>'List.Price'</li><li>'Amazon.Price'</li><li>'Hard..Paper'</li><li>'NumPages'</li><li>'Publisher'</li><li>'Pub.year'</li><li>'ISBN.10'</li><li>'Height'</li><li>'Width'</li><li>'Thick'</li><li>'Weight..oz.'</li></ol>\n"
      ],
      "text/latex": [
       "\\begin{enumerate*}\n",
       "\\item 'Title'\n",
       "\\item 'Author'\n",
       "\\item 'List.Price'\n",
       "\\item 'Amazon.Price'\n",
       "\\item 'Hard..Paper'\n",
       "\\item 'NumPages'\n",
       "\\item 'Publisher'\n",
       "\\item 'Pub.year'\n",
       "\\item 'ISBN.10'\n",
       "\\item 'Height'\n",
       "\\item 'Width'\n",
       "\\item 'Thick'\n",
       "\\item 'Weight..oz.'\n",
       "\\end{enumerate*}\n"
      ],
      "text/markdown": [
       "1. 'Title'\n",
       "2. 'Author'\n",
       "3. 'List.Price'\n",
       "4. 'Amazon.Price'\n",
       "5. 'Hard..Paper'\n",
       "6. 'NumPages'\n",
       "7. 'Publisher'\n",
       "8. 'Pub.year'\n",
       "9. 'ISBN.10'\n",
       "10. 'Height'\n",
       "11. 'Width'\n",
       "12. 'Thick'\n",
       "13. 'Weight..oz.'\n",
       "\n",
       "\n"
      ],
      "text/plain": [
       " [1] \"Title\"        \"Author\"       \"List.Price\"   \"Amazon.Price\" \"Hard..Paper\" \n",
       " [6] \"NumPages\"     \"Publisher\"    \"Pub.year\"     \"ISBN.10\"      \"Height\"      \n",
       "[11] \"Width\"        \"Thick\"        \"Weight..oz.\" "
      ]
     },
     "metadata": {},
     "output_type": "display_data"
    },
    {
     "name": "stdout",
     "output_type": "stream",
     "text": [
      "There are 259 rows and 8 columns in the training set. There are 65 rows and 8 columns in the testing set."
     ]
    }
   ],
   "source": [
    "# You may either install the \"car\" package, or import the \"vif_function.r\" script\n",
    "# in order to have a usable vif() function that will be needed later on in this problem.\n",
    "# Uncomment the one that you need prior to executing this cell.\n",
    "\n",
    "# install.packages(\"car\")\n",
    "install.packages(\"corrplot\")\n",
    "library(ggplot2)\n",
    "# library(car) #for the vif() function\n",
    "library(corrplot)\n",
    "# source(\"vif_function.r\")\n",
    "\n",
    "amazon = read.csv(url(paste0(\"https://raw.githubusercontent.com/bzaharatos/\",\n",
    "                    \"-Statistical-Modeling-for-Data-Science-Applications/\",\n",
    "                    \"master/Modern%20Regression%20Analysis%20/Datasets/amazon.txt\")), sep = \"\\t\")\n",
    "names(amazon)\n",
    "df = data.frame(aprice = amazon$Amazon.Price, lprice = as.numeric(amazon$List.Price),  \n",
    "                pages = amazon$NumPages, width = amazon$Width, weight = amazon$Weight..oz,  \n",
    "                height = amazon$Height, thick = amazon$Thick, cover = amazon$Hard..Paper)\n",
    "\n",
    "#cleaning the data, as was done in our lesson on t-tests\n",
    "df$weight[which(is.na(df$weight))] = mean(df$weight, na.rm = TRUE)\n",
    "df$pages[which(is.na(df$pages))] = mean(df$pages, na.rm = TRUE)\n",
    "df$height[which(is.na(df$height))] = mean(df$height, na.rm = TRUE)\n",
    "df$width[which(is.na(df$width))] = mean(df$width, na.rm = TRUE)\n",
    "df$thick[which(is.na(df$thick))] = mean(df$thick, na.rm = TRUE)\n",
    "df = df[-205,]\n",
    "\n",
    "#training and test set\n",
    "set.seed(11111)\n",
    "n = floor(0.8 * nrow(df)) #find the number corresponding to 80% of the data\n",
    "index = sample(seq_len(nrow(df)), size = n) #randomly sample indicies to be included in the training set\n",
    "\n",
    "train = df[index, ] #set the training set to be the randomly sampled rows of the dataframe\n",
    "test = df[-index, ] #set the testing set to be the remaining rows\n",
    "cat(\"There are\", dim(train)[1], \"rows and\",dim(train)[2],\"columns in the training set. \")  #check the dimensions\n",
    "cat(\"There are\", dim(test)[1], \"rows and\",dim(test)[2],\"columns in the testing set.\")  #check the dimensions\n"
   ]
  },
  {
   "cell_type": "markdown",
   "id": "faef6513-7086-4154-99bd-26a8c743dd66",
   "metadata": {},
   "source": [
    "Also, here are some pairwise correlations."
   ]
  },
  {
   "cell_type": "code",
   "execution_count": 25,
   "id": "d7988680-3980-46a5-bd7e-ebd00d66af5a",
   "metadata": {},
   "outputs": [
    {
     "data": {
      "image/png": "[encoded data removed]",
      "text/plain": [
       "Plot with title \"\""
      ]
     },
     "metadata": {
      "image/png": {
       "height": 420,
       "width": 420
      }
     },
     "output_type": "display_data"
    }
   ],
   "source": [
    "col4 = colorRampPalette(c(\"black\", \"darkgrey\", \"grey\",\"#CFB87C\"))\n",
    "corrplot(cor(train[,-8]), method = \"ellipse\", col = col4(100),  addCoef.col = \"black\", tl.col = \"black\")"
   ]
  },
  {
   "cell_type": "markdown",
   "id": "f48bc6bc-604d-4fa1-93dc-13e8d8cc1702",
   "metadata": {},
   "source": [
    "**PART A:** Fit a full model on the training dataset. Then, use the `update()` function to perform backward selection (let $\\alpha_{crit} = 0.15$). At each step of backward selection, calculate the mean squared prediction error (MSPE) on the test set."
   ]
  },
  {
   "cell_type": "code",
   "execution_count": 2,
   "id": "d8bf7229-59df-42ae-9536-77cfcf73da17",
   "metadata": {},
   "outputs": [
    {
     "name": "stderr",
     "output_type": "stream",
     "text": [
      "Loading required package: lattice\n",
      "\n",
      "\n",
      "Attaching package: 'Metrics'\n",
      "\n",
      "\n",
      "The following objects are masked from 'package:caret':\n",
      "\n",
      "    precision, recall\n",
      "\n",
      "\n"
     ]
    }
   ],
   "source": [
    "library(caret)\n",
    "library(Metrics)"
   ]
  },
  {
   "cell_type": "code",
   "execution_count": 86,
   "id": "5322f0d9-1dfa-4377-885c-230ea87246d7",
   "metadata": {},
   "outputs": [
    {
     "name": "stdout",
     "output_type": "stream",
     "text": [
      "\n",
      "Call:\n",
      "lm(formula = formula_dynamic, data = train)\n",
      "\n",
      "Residuals:\n",
      "     Min       1Q   Median       3Q      Max \n",
      "-20.5460  -1.7807  -0.4809   1.2698  20.7516 \n",
      "\n",
      "Coefficients:\n",
      "             Estimate Std. Error t value Pr(>|t|)    \n",
      "(Intercept) -1.918942   0.809428  -2.371  0.01850 *  \n",
      "lprice       0.873961   0.016858  51.843  < 2e-16 ***\n",
      "pages       -0.003391   0.001935  -1.753  0.08084 .  \n",
      "weight      -0.100753   0.051327  -1.963  0.05074 .  \n",
      "coverP       1.606029   0.585836   2.741  0.00655 ** \n",
      "---\n",
      "Signif. codes:  0 '***' 0.001 '**' 0.01 '*' 0.05 '.' 0.1 ' ' 1\n",
      "\n",
      "Residual standard error: 3.82 on 254 degrees of freedom\n",
      "Multiple R-squared:  0.9198,\tAdjusted R-squared:  0.9186 \n",
      "F-statistic: 728.5 on 4 and 254 DF,  p-value: < 2.2e-16\n",
      "\n",
      "[1] \"MSPE scores at each step of backward selection:\"\n",
      "[1] 9.358554 9.229814 8.555423 8.109727\n"
     ]
    }
   ],
   "source": [
    "X_train <- train[, c(\"lprice\", \"pages\", \"width\", \"weight\", \"height\", \"thick\", \"cover\")]\n",
    "y_train <- train$aprice\n",
    "X_test <- test[, c(\"lprice\", \"pages\", \"width\", \"weight\", \"height\", \"thick\", \"cover\")]\n",
    "y_test <- test$aprice\n",
    "\n",
    "# 1. Fit the full model (Linear regression in this case)\n",
    "full_model <- lm(aprice ~ lprice + pages + width + weight + height + thick + cover, data = train)\n",
    "\n",
    "# Initialize MSPE scores\n",
    "mspe_scores <- c()\n",
    "\n",
    "# 2. Perform backward selection using update() with alpha_critical = 0.15\n",
    "current_model <- full_model\n",
    "current_features <- names(X_train)\n",
    "\n",
    "count <- 6\n",
    "# Perform backward elimination until no more features have p-value > 0.15\n",
    "while (count >= 0) {\n",
    "    count <- count - 1\n",
    "    # 2.1. Predict on the test set\n",
    "    y_pred <- predict(current_model, newdata = X_test)\n",
    "    \n",
    "    # 2.2. Calculate MSPE\n",
    "    mspe <- mse(y_test, y_pred)\n",
    "    mspe_scores <- c(mspe_scores, mspe)\n",
    "    \n",
    "    # 2.3. Check the p-values of the current model\n",
    "    p_values <- summary(current_model)$coefficients[, 4]\n",
    "    p_values <- p_values[names(p_values) != \"(Intercept)\"]\n",
    "    # Find features with p-value > alpha_critical = 0.15\n",
    "    non_significant <- names(p_values)[p_values > 0.15]\n",
    "    \n",
    "    # If no feature has a p-value > alpha_critical, stop backward selection\n",
    "    if (length(non_significant) == 0) {\n",
    "        break\n",
    "    }\n",
    "    \n",
    "    # 2.4. Update the model by removing the feature with the highest p-value\n",
    "    # Remove the feature with the highest p-value (non-significant feature)\n",
    "    feature_to_remove <- names(p_values)[which.max(p_values)]\n",
    "    current_features <- setdiff(current_features, feature_to_remove)\n",
    "\n",
    "    # Create the formula dynamically\n",
    "    formula_dynamic <- as.formula(paste(\"aprice ~\", paste(current_features, collapse = \" + \")))\n",
    "    \n",
    "    # Fit the model with the updated formula\n",
    "    current_model <- lm(formula_dynamic, data = train)\n",
    "  \n",
    "}\n",
    "\n",
    "print(summary(current_model))\n",
    "\n",
    "# Print the MSPE scores for each iteration\n",
    "print(\"MSPE scores at each step of backward selection:\")\n",
    "print(mspe_scores)"
   ]
  },
  {
   "cell_type": "markdown",
   "id": "17b1e24b-9a2e-4c89-95df-c3321b635024",
   "metadata": {},
   "source": [
    "**PART B:** Check the standard diagnostic plots for this \"best\" model. Specifically, do you think this model satisfies the modeling assumptions?"
   ]
  },
  {
   "cell_type": "code",
   "execution_count": 66,
   "id": "078c6718-cd7f-495e-8811-38caeb04a552",
   "metadata": {},
   "outputs": [
    {
     "data": {
      "image/png": "[encoded data removed]",
      "text/plain": [
       "plot without title"
      ]
     },
     "metadata": {
      "image/png": {
       "height": 420,
       "width": 420
      }
     },
     "output_type": "display_data"
    }
   ],
   "source": [
    "# Plot the residuals versus fitted values.\n",
    "train$Fitted_Values <- fitted(current_model)  # Predicted values\n",
    "train$Residuals <- residuals(current_model)\n",
    "\n",
    "library(ggplot2)\n",
    "\n",
    "ggplot(train, aes(x = Fitted_Values, y = Residuals)) +\n",
    "  geom_point(color = \"blue\", alpha = 0.6) +  # Scatter plot of residuals\n",
    "  geom_hline(yintercept = 0, linetype = \"dashed\", color = \"red\") +  # Reference line at y = 0\n",
    "  labs(title = \"Residuals vs. Fitted Values\",\n",
    "       x = \"Fitted Values (Predicted Weight)\",\n",
    "       y = \"Residuals\") +\n",
    "  theme_minimal()"
   ]
  },
  {
   "cell_type": "code",
   "execution_count": 68,
   "id": "edf337f1-e69b-44b4-8691-fe4c7eb1f32a",
   "metadata": {
    "scrolled": true
   },
   "outputs": [
    {
     "data": {
      "image/png": "[encoded data removed]",
      "text/plain": [
       "plot without title"
      ]
     },
     "metadata": {
      "image/png": {
       "height": 420,
       "width": 420
      }
     },
     "output_type": "display_data"
    }
   ],
   "source": [
    "ggplot(data = train, aes(sample = residuals(current_model))) +\n",
    "  stat_qq(color = \"blue\") +  # Q-Q plot points\n",
    "  stat_qq_line(color = \"red\") +  # Reference normality line\n",
    "  labs(title = \"Q-Q Plot of Residuals\",\n",
    "       x = \"Theoretical Quantiles\",\n",
    "       y = \"Sample Quantiles\") +\n",
    "  theme_minimal()"
   ]
  },
  {
   "cell_type": "markdown",
   "id": "f1ab366c-6d41-43ed-a490-441cd90aac23",
   "metadata": {},
   "source": [
    "The residual-fitted value plot shows some heteroscedasticity because there're some extreme outliers and the rest clusters around $y=0$. Besides, The Q-Q plot shows deviation from the central line in either ends of the plot. Thus this model doesn't satisfy all the modeling assumptions."
   ]
  },
  {
   "cell_type": "markdown",
   "id": "076d81e2-c379-42e6-b9b4-af4f410b8807",
   "metadata": {},
   "source": [
    "**PART C:** Compare the MSPE for each of the models you fit along the way as you performed the backward selection.  Using MSPE as a criterion, which model is best? "
   ]
  },
  {
   "cell_type": "markdown",
   "id": "0c642422-016e-4dde-be37-5f751369abf0",
   "metadata": {},
   "source": [
    "**Answer**: The models have respectively 9.358554, 9.229814, 8.555423 and 8.109727 MSPE scores. Solely according to this, the first model is the best."
   ]
  },
  {
   "cell_type": "markdown",
   "id": "97275dc3-608a-47c9-b98f-d6b9e4ddaf0a",
   "metadata": {},
   "source": [
    "**PART D:** Now, compute the best model of size  1 , the best model of size  2 , etc. up through the best model of size 7  (the full model). Then, among the remaining  7  models, compute the best model according the AIC, BIC, and  𝑅2𝑎 . Do the criteria pick out different models? Which model do you think is best? Justify your answer."
   ]
  },
  {
   "cell_type": "code",
   "execution_count": 69,
   "id": "31509ab1-e97d-4205-9bab-257540ae5928",
   "metadata": {},
   "outputs": [
    {
     "name": "stderr",
     "output_type": "stream",
     "text": [
      "Installing package into 'C:/Users/inipo/AppData/Local/R/win-library/4.4'\n",
      "(as 'lib' is unspecified)\n",
      "\n"
     ]
    },
    {
     "name": "stdout",
     "output_type": "stream",
     "text": [
      "package 'leaps' successfully unpacked and MD5 sums checked\n",
      "\n",
      "The downloaded binary packages are in\n",
      "\tC:\\Users\\inipo\\AppData\\Local\\Temp\\RtmpCGp8Uc\\downloaded_packages\n"
     ]
    }
   ],
   "source": [
    "install.packages(\"leaps\")\n",
    "library(leaps)"
   ]
  },
  {
   "cell_type": "markdown",
   "id": "607edf7c-33e1-48d0-a5e4-b7a87b02df48",
   "metadata": {},
   "source": [
    "AIC chooses the model: $k=3$\n",
    "\n",
    "        \n",
    "\n",
    "BIC chooses the model: $k=4$\n",
    "\n",
    "        \n",
    "\n",
    "$R^2_a$ chooses the model: $k=4$\n",
    "\n",
    "        "
   ]
  },
  {
   "cell_type": "code",
   "execution_count": 70,
   "id": "f9789172-9d32-4caf-8e20-6012b22e4b25",
   "metadata": {},
   "outputs": [
    {
     "data": {
      "text/plain": [
       "Subset selection object\n",
       "Call: regsubsets.formula(aprice ~ lprice + pages + width + weight + \n",
       "    height + thick + cover, data = df, nvmax = 7)\n",
       "7 Variables  (and intercept)\n",
       "       Forced in Forced out\n",
       "lprice     FALSE      FALSE\n",
       "pages      FALSE      FALSE\n",
       "width      FALSE      FALSE\n",
       "weight     FALSE      FALSE\n",
       "height     FALSE      FALSE\n",
       "thick      FALSE      FALSE\n",
       "coverP     FALSE      FALSE\n",
       "1 subsets of each size up to 7\n",
       "Selection Algorithm: exhaustive\n",
       "         lprice pages width weight height thick coverP\n",
       "1  ( 1 ) \"*\"    \" \"   \" \"   \" \"    \" \"    \" \"   \" \"   \n",
       "2  ( 1 ) \"*\"    \" \"   \" \"   \" \"    \" \"    \"*\"   \" \"   \n",
       "3  ( 1 ) \"*\"    \" \"   \" \"   \" \"    \" \"    \"*\"   \"*\"   \n",
       "4  ( 1 ) \"*\"    \" \"   \" \"   \"*\"    \" \"    \"*\"   \"*\"   \n",
       "5  ( 1 ) \"*\"    \" \"   \"*\"   \"*\"    \" \"    \"*\"   \"*\"   \n",
       "6  ( 1 ) \"*\"    \"*\"   \"*\"   \"*\"    \" \"    \"*\"   \"*\"   \n",
       "7  ( 1 ) \"*\"    \"*\"   \"*\"   \"*\"    \"*\"    \"*\"   \"*\"   "
      ]
     },
     "metadata": {},
     "output_type": "display_data"
    }
   ],
   "source": [
    "subset_model <- regsubsets(aprice ~ lprice + pages + width + weight + height + thick + cover,\n",
    "                           data = df, \n",
    "                           nvmax = 7)  # Specifies max number of predictors\n",
    "\n",
    "# View summary of the best models for each subset size\n",
    "subset_summary <- summary(subset_model)\n",
    "subset_summary"
   ]
  },
  {
   "cell_type": "code",
   "execution_count": 81,
   "id": "65db073c-c82b-4f5d-a969-ddd80604ffb6",
   "metadata": {},
   "outputs": [
    {
     "data": {
      "image/png": "[encoded data removed]",
      "text/plain": [
       "Plot with title \"AIC vs. Model Size\""
      ]
     },
     "metadata": {
      "image/png": {
       "height": 420,
       "width": 420
      }
     },
     "output_type": "display_data"
    }
   ],
   "source": [
    "# 6) CODE HERE\n",
    "# Initialize vector to store AIC values\n",
    "aic_values <- numeric(7)  # Store AIC for each model size\n",
    "\n",
    "# Loop through model sizes (k = 1 to 7)\n",
    "for (k in 1:7) {\n",
    "    # Extract selected predictors for the best model with k predictors\n",
    "    selected_vars <- names(which(subset_summary$which[k, -1]))  # Exclude intercept\n",
    "    selected_vars <- gsub(\"coverP\", \"cover\", selected_vars)\n",
    "    formula_str <- paste(\"aprice ~\", paste(selected_vars, collapse = \" + \"))  # Build formula\n",
    "\n",
    "    # Fit linear model with selected predictors\n",
    "    model <- lm(as.formula(formula_str), data = df)\n",
    "    \n",
    "    # Compute AIC\n",
    "    aic_values[k] <- AIC(model)\n",
    "}\n",
    "\n",
    "# Plot AIC vs. Model Size\n",
    "plot(1:7, aic_values, type = \"b\", pch = 19, col = \"blue\", xlab = \"Number of Predictors (k)\", \n",
    "     ylab = \"AIC\", main = \"AIC vs. Model Size\")\n",
    "\n",
    "# Highlight the best model (lowest AIC)\n",
    "best_k <- which.min(aic_values)\n",
    "points(best_k, aic_values[best_k], col = \"red\", pch = 19, cex = 1.5)  # Red dot for best model"
   ]
  },
  {
   "cell_type": "code",
   "execution_count": 82,
   "id": "dedef434-726b-4e76-b5d3-349335623499",
   "metadata": {},
   "outputs": [
    {
     "data": {
      "image/png": "[encoded data removed]",
      "text/plain": [
       "Plot with title \"BIC vs. Model Size\""
      ]
     },
     "metadata": {
      "image/png": {
       "height": 420,
       "width": 420
      }
     },
     "output_type": "display_data"
    }
   ],
   "source": [
    "# 6) CODE HERE\n",
    "# Initialize vector to store AIC values\n",
    "bic_values <- numeric(7)  # Store AIC for each model size\n",
    "\n",
    "# Loop through model sizes (k = 1 to 7)\n",
    "for (k in 1:7) {\n",
    "    # Extract selected predictors for the best model with k predictors\n",
    "    selected_vars <- names(which(subset_summary$which[k, -1]))  # Exclude intercept\n",
    "    selected_vars <- gsub(\"coverP\", \"cover\", selected_vars)\n",
    "    formula_str <- paste(\"aprice ~\", paste(selected_vars, collapse = \" + \"))  # Build formula\n",
    "\n",
    "    # Fit linear model with selected predictors\n",
    "    model <- lm(as.formula(formula_str), data = df)\n",
    "    \n",
    "    # Compute BIC\n",
    "    bic_values[k] <- BIC(model)\n",
    "}\n",
    "\n",
    "# Plot AIC vs. Model Size\n",
    "plot(1:7, bic_values, type = \"b\", pch = 19, col = \"blue\", xlab = \"Number of Predictors (k)\", \n",
    "     ylab = \"BIC\", main = \"BIC vs. Model Size\")\n",
    "\n",
    "# Highlight the best model (lowest AIC)\n",
    "best_k <- which.min(bic_values)\n",
    "points(best_k, bic_values[best_k], col = \"red\", pch = 19, cex = 1.5)  # Red dot for best model"
   ]
  },
  {
   "cell_type": "code",
   "execution_count": 80,
   "id": "d9e81b1f-3d6e-409b-9f03-de074fc9cae0",
   "metadata": {},
   "outputs": [
    {
     "name": "stdout",
     "output_type": "stream",
     "text": [
      "(Intercept)      lprice       pages       width      weight      height \n",
      "       TRUE        TRUE       FALSE       FALSE        TRUE       FALSE \n",
      "      thick      coverP \n",
      "       TRUE        TRUE \n"
     ]
    },
    {
     "data": {
      "image/png": "[encoded data removed]",
      "text/plain": [
       "Plot with title \"Adjusted R-Squared vs. Model Size\""
      ]
     },
     "metadata": {
      "image/png": {
       "height": 420,
       "width": 420
      }
     },
     "output_type": "display_data"
    }
   ],
   "source": [
    "# 7) CODE HERE\n",
    "# Extract Adjusted R-Squared values\n",
    "adj_rsq_values <- subset_summary$adjr2  # Adjusted R-squared for each model size\n",
    "\n",
    "# Find the best model (highest Adjusted R-Squared)\n",
    "best_k <- which.max(adj_rsq_values)  # Index of the best model\n",
    "\n",
    "# Display the best model's selected predictors\n",
    "best_model <- subset_summary$which[best_k, ]\n",
    "print(best_model)\n",
    "\n",
    "# Plot Adjusted R-Squared vs. Model Size\n",
    "plot(1:7, adj_rsq_values, type = \"b\", pch = 19, col = \"blue\", xlab = \"Number of Predictors (k)\", \n",
    "     ylab = \"Adjusted R-Squared\", main = \"Adjusted R-Squared vs. Model Size\")\n",
    "\n",
    "# Highlight the best model (highest Adjusted R-Squared)\n",
    "points(best_k, adj_rsq_values[best_k], col = \"red\", pch = 19, cex = 1.5)  # Red dot for best model"
   ]
  },
  {
   "cell_type": "markdown",
   "id": "142c1a18-06b4-4cb5-b233-7acc88ff022f",
   "metadata": {},
   "source": [
    "**PART E:** Compute the MSPE for each of the best models of size $1$, the best model of size $2$, etc. up through the best model of size $7$ (the full model). Which model is best according to this metric? Is this the same model that was selected by MSPE in part B.1 (c)?\n",
    "\n",
    "You can either fit seven separate models **OR** automate this process in a function with a loop. If you choose to use a loop, consider the following:\n",
    "\n",
    "1. The function should take in the training set, the test set, and the summary of your `regsubsets()` object (what we called `rs` in class).\n",
    "\n",
    "2. The function should contain a loop. At step i = 1,...,p of the loop, you should:\n",
    "    - select the training set model matrix corresponding the the best model of size i. You can do this using the logicals in the table given by `rs$which`.\n",
    "    \n",
    "    - fit the regression with the selected model matrix\n",
    "    \n",
    "    - select the test set matrix, xstar, of correct size i = 1,...,p. Again, you can do this using the logicals in the table given by `rs$which`.\n",
    "    \n",
    "    - compute the predicted value for the selected xstar\n",
    "    \n",
    "    - compute the MSPE "
   ]
  },
  {
   "cell_type": "code",
   "execution_count": 84,
   "id": "a6e16512-548e-49c0-9224-3be353605b1e",
   "metadata": {},
   "outputs": [
    {
     "data": {
      "image/png": "[encoded data removed]",
      "text/plain": [
       "Plot with title \"MSPE vs. Model Size\""
      ]
     },
     "metadata": {
      "image/png": {
       "height": 420,
       "width": 420
      }
     },
     "output_type": "display_data"
    }
   ],
   "source": [
    "# Initialize vector to store AIC values\n",
    "mspe_values <- numeric(7)  # Store AIC for each model size\n",
    "\n",
    "# Loop through model sizes (k = 1 to 7)\n",
    "for (k in 1:7) {\n",
    "    # Extract selected predictors for the best model with k predictors\n",
    "    selected_vars <- names(which(subset_summary$which[k, -1]))  # Exclude intercept\n",
    "    selected_vars <- gsub(\"coverP\", \"cover\", selected_vars)\n",
    "    formula_str <- paste(\"aprice ~\", paste(selected_vars, collapse = \" + \"))  # Build formula\n",
    "\n",
    "    # Fit linear model with selected predictors\n",
    "    model <- lm(as.formula(formula_str), data = train)\n",
    "    \n",
    "    # Predict\n",
    "    y_pred <- predict(model, newdata = X_test)\n",
    "    \n",
    "    # Calculate MSPE\n",
    "    mspe_values[k] <- mse(y_test, y_pred)\n",
    "}\n",
    "\n",
    "# Plot AIC vs. Model Size\n",
    "plot(1:7, mspe_values, type = \"b\", pch = 19, col = \"blue\", xlab = \"Number of Predictors (k)\", \n",
    "     ylab = \"MSPE\", main = \"MSPE vs. Model Size\")\n",
    "\n",
    "# Highlight the best model (lowest AIC)\n",
    "best_k <- which.min(mspe_values)\n",
    "points(best_k, mspe_values[best_k], col = \"red\", pch = 19, cex = 1.5)  # Red dot for best model"
   ]
  },
  {
   "cell_type": "markdown",
   "id": "0e21e40d-cd93-4da9-9b2a-f18291ebfe52",
   "metadata": {},
   "source": [
    "**Answer**: Model $k=3$ is best according to this model. This model uses the predictors: lprice, thick and cover. The model selected using backward selection uses the following 4 predictors: lprice, pages, weight and cover which is different than the model selected in this Part."
   ]
  },
  {
   "cell_type": "markdown",
   "id": "69ff169f-8a42-4595-950f-19c6b9b9eb6c",
   "metadata": {},
   "source": [
    "**PART F:** Compute the variance inflation factor for the models selected by AIC, BIC, MSPE, and $R_a^2$. Do any of these models show evidence of collinearity?"
   ]
  },
  {
   "cell_type": "code",
   "execution_count": 87,
   "id": "c74a8cfb-4f43-42e3-aa00-668e41df0d0a",
   "metadata": {},
   "outputs": [
    {
     "name": "stderr",
     "output_type": "stream",
     "text": [
      "Loading required package: carData\n",
      "\n"
     ]
    },
    {
     "name": "stdout",
     "output_type": "stream",
     "text": [
      "[1] \"VIF values for k = 3\"\n",
      "  lprice    thick    cover \n",
      "1.032415 1.163058 1.174192 \n",
      "[1] \"VIF values for k = 4\"\n",
      "  lprice   weight    thick    cover \n",
      "1.197162 2.208026 2.036384 1.180699 \n"
     ]
    }
   ],
   "source": [
    "# Load the car package for vif function\n",
    "library(car)\n",
    "\n",
    "# Assuming subset_summary is already defined\n",
    "for (k in c(3, 4)) {  # Loop over k = 3 and k = 4\n",
    "  \n",
    "  # Select the variables based on the k-th row\n",
    "  selected_vars <- names(which(subset_summary$which[k, -1]))  # Exclude intercept\n",
    "  \n",
    "  # Replace \"coverP\" with \"cover\" if it exists in the selected variables\n",
    "  selected_vars <- gsub(\"coverP\", \"cover\", selected_vars)\n",
    "  \n",
    "  # Build the model formula\n",
    "  formula_str <- paste(\"aprice ~\", paste(selected_vars, collapse = \" + \"))  # Build formula\n",
    "  \n",
    "  # Fit the linear model with selected predictors\n",
    "  model <- lm(as.formula(formula_str), data = train)\n",
    "  \n",
    "  # Calculate the VIF for the model\n",
    "  vif_values <- vif(model)\n",
    "  \n",
    "  # Print the VIF values\n",
    "  print(paste(\"VIF values for k =\", k))\n",
    "  print(vif_values)\n",
    "}"
   ]
  },
  {
   "cell_type": "markdown",
   "id": "c11bb3d1-b156-47dc-aa27-261a6844bd82",
   "metadata": {},
   "source": [
    "All of the VIF values are below 5, which indicates no collinearity concerns in either of the models.\n",
    "Even the highest VIF value (for weight with a value of 2.208026) is well below the threshold for high collinearity."
   ]
  },
  {
   "cell_type": "markdown",
   "id": "e288d047-047d-4b6b-90bd-665f0398fbb0",
   "metadata": {},
   "source": [
    "## Problem 3 Diagnosing and Correcting Non-Constant Variance (40 points)"
   ]
  },
  {
   "cell_type": "markdown",
   "id": "568eda56-3135-4564-9961-053582d8e6cc",
   "metadata": {},
   "source": [
    "Researchers at the National Institutes of Standards and Technology (NIST) collected [pipline data](https://rdrr.io/cran/faraway/man/pipeline.html) on ultrasonic measurements of the depth of defects in the Alaska pipeline in the field. The depths of the defects were then remeasured in the laboratory. The laboratory measurements are more accurate than the field measurements, but more time consuming and expensive. We want to develop a regression model for correcting the in field measurements. \n",
    "\n",
    "**PART A:** Fit a regression model where `Lab` is the response and `Field` is the predictor and save this model as `lmodPipeline`. Check for non-constant variance. Use the Pearson residuals. The Pearson residuals are a type of standardized residual. A plot of the Pearson residuals against the fitted values provides evidence of nonconstant variance. You can do this by specifying the \"type\" argument in your use of the resid function. Note whether or not you see non-constant variance in your plot."
   ]
  },
  {
   "cell_type": "code",
   "execution_count": 88,
   "id": "83a6f247-4630-4535-86da-4b641ad2faed",
   "metadata": {},
   "outputs": [
    {
     "name": "stderr",
     "output_type": "stream",
     "text": [
      "Installing package into 'C:/Users/inipo/AppData/Local/R/win-library/4.4'\n",
      "(as 'lib' is unspecified)\n",
      "\n"
     ]
    },
    {
     "name": "stdout",
     "output_type": "stream",
     "text": [
      "package 'faraway' successfully unpacked and MD5 sums checked\n",
      "\n",
      "The downloaded binary packages are in\n",
      "\tC:\\Users\\inipo\\AppData\\Local\\Temp\\RtmpCGp8Uc\\downloaded_packages\n"
     ]
    },
    {
     "name": "stderr",
     "output_type": "stream",
     "text": [
      "\n",
      "Attaching package: 'faraway'\n",
      "\n",
      "\n",
      "The following objects are masked from 'package:car':\n",
      "\n",
      "    logit, vif\n",
      "\n",
      "\n",
      "The following object is masked from 'package:lattice':\n",
      "\n",
      "    melanoma\n",
      "\n",
      "\n"
     ]
    },
    {
     "data": {
      "text/html": [
       "<table class=\"dataframe\">\n",
       "<caption>A data.frame: 6 × 3</caption>\n",
       "<thead>\n",
       "\t<tr><th></th><th scope=col>Field</th><th scope=col>Lab</th><th scope=col>Batch</th></tr>\n",
       "\t<tr><th></th><th scope=col>&lt;int&gt;</th><th scope=col>&lt;dbl&gt;</th><th scope=col>&lt;fct&gt;</th></tr>\n",
       "</thead>\n",
       "<tbody>\n",
       "\t<tr><th scope=row>1</th><td>18</td><td>20.2</td><td>1</td></tr>\n",
       "\t<tr><th scope=row>2</th><td>38</td><td>56.0</td><td>1</td></tr>\n",
       "\t<tr><th scope=row>3</th><td>15</td><td>12.5</td><td>1</td></tr>\n",
       "\t<tr><th scope=row>4</th><td>20</td><td>21.2</td><td>1</td></tr>\n",
       "\t<tr><th scope=row>5</th><td>18</td><td>15.5</td><td>1</td></tr>\n",
       "\t<tr><th scope=row>6</th><td>36</td><td>39.0</td><td>1</td></tr>\n",
       "</tbody>\n",
       "</table>\n"
      ],
      "text/latex": [
       "A data.frame: 6 × 3\n",
       "\\begin{tabular}{r|lll}\n",
       "  & Field & Lab & Batch\\\\\n",
       "  & <int> & <dbl> & <fct>\\\\\n",
       "\\hline\n",
       "\t1 & 18 & 20.2 & 1\\\\\n",
       "\t2 & 38 & 56.0 & 1\\\\\n",
       "\t3 & 15 & 12.5 & 1\\\\\n",
       "\t4 & 20 & 21.2 & 1\\\\\n",
       "\t5 & 18 & 15.5 & 1\\\\\n",
       "\t6 & 36 & 39.0 & 1\\\\\n",
       "\\end{tabular}\n"
      ],
      "text/markdown": [
       "\n",
       "A data.frame: 6 × 3\n",
       "\n",
       "| <!--/--> | Field &lt;int&gt; | Lab &lt;dbl&gt; | Batch &lt;fct&gt; |\n",
       "|---|---|---|---|\n",
       "| 1 | 18 | 20.2 | 1 |\n",
       "| 2 | 38 | 56.0 | 1 |\n",
       "| 3 | 15 | 12.5 | 1 |\n",
       "| 4 | 20 | 21.2 | 1 |\n",
       "| 5 | 18 | 15.5 | 1 |\n",
       "| 6 | 36 | 39.0 | 1 |\n",
       "\n"
      ],
      "text/plain": [
       "  Field Lab  Batch\n",
       "1 18    20.2 1    \n",
       "2 38    56.0 1    \n",
       "3 15    12.5 1    \n",
       "4 20    21.2 1    \n",
       "5 18    15.5 1    \n",
       "6 36    39.0 1    "
      ]
     },
     "metadata": {},
     "output_type": "display_data"
    }
   ],
   "source": [
    "install.packages('faraway', repos='http://cran.us.r-project.org')\n",
    "library(faraway) #this package contains the pipeline data. \n",
    "\n",
    "data(pipeline)\n",
    "head(pipeline)"
   ]
  },
  {
   "cell_type": "code",
   "execution_count": 90,
   "id": "549c5966-70d3-4f4f-9118-edb5dc601680",
   "metadata": {},
   "outputs": [
    {
     "data": {
      "image/png": "[encoded data removed]",
      "text/plain": [
       "Plot with title \"Plot of Pearson Residuals vs. Fitted Values\""
      ]
     },
     "metadata": {
      "image/png": {
       "height": 420,
       "width": 420
      }
     },
     "output_type": "display_data"
    }
   ],
   "source": [
    "# Fit the regression model\n",
    "lmodPipeline <- lm(Lab ~ Field, data = pipeline)\n",
    "\n",
    "# Get the Pearson residuals\n",
    "pearson_residuals <- resid(lmodPipeline, type = \"pearson\")\n",
    "\n",
    "# Plot the Pearson residuals against the fitted values\n",
    "plot(fitted(lmodPipeline), pearson_residuals, \n",
    "     xlab = \"Fitted Values\", \n",
    "     ylab = \"Pearson Residuals\",\n",
    "     main = \"Plot of Pearson Residuals vs. Fitted Values\")\n",
    "\n",
    "# Add a horizontal line at 0 for reference\n",
    "abline(h = 0, col = \"red\")"
   ]
  },
  {
   "cell_type": "markdown",
   "id": "7d1a1009-5cc4-4f1b-ab13-03211fac73b6",
   "metadata": {},
   "source": [
    "There might be slight non-constant variance since the residuals gravitates slightly towards $y=0$."
   ]
  },
  {
   "cell_type": "markdown",
   "id": "56f52040-8f40-4732-aeeb-9cb0cea7a62c",
   "metadata": {},
   "source": [
    "**PART B:** Sometimes transforming the response and predictor helps in stabilizing variance. Find a transformation on Lab and/or Field so that in the transformed scale the relationship is approximately linear with constant variance. Restrict your choice of transformation to square root or log. Save your transformed variables as `pipeline$LabTransform` and `pipeline$FieldTransform`. Then, regress the transformed` Lab` variable (response) onto the transformed `Field` variable (predictor), and save this as `lmodTr`.\n",
    "\n",
    "Check for non-constant variance in your transformed model using the same process from Part A. What do you notice?"
   ]
  },
  {
   "cell_type": "code",
   "execution_count": 94,
   "id": "a097f5cd-3a72-4f2c-9e83-2d47a368f7d5",
   "metadata": {},
   "outputs": [
    {
     "data": {
      "image/png": "[encoded data removed]",
      "text/plain": [
       "Plot with title \"Plot of Pearson Residuals vs. Fitted Values (Sqrt Transform)\""
      ]
     },
     "metadata": {
      "image/png": {
       "height": 420,
       "width": 420
      }
     },
     "output_type": "display_data"
    }
   ],
   "source": [
    "# Apply square root transformation to both Lab and Field\n",
    "pipeline$LabTransform <- sqrt(pipeline$Lab)  # Square root transformation for Lab\n",
    "pipeline$FieldTransform <- sqrt(pipeline$Field)  # Square root transformation for Field\n",
    "\n",
    "# Alternatively, you could try log transformation by uncommenting these lines\n",
    "# pipeline$LabTransform <- log(pipeline$Lab)\n",
    "# pipeline$FieldTransform <- log(pipeline$Field)\n",
    "\n",
    "# Fit the transformed regression model\n",
    "lmodTr <- lm(LabTransform ~ FieldTransform, data = pipeline)\n",
    "\n",
    "# Get the Pearson residuals for the transformed model\n",
    "pearson_residuals_tr <- resid(lmodTr, type = \"pearson\")\n",
    "\n",
    "# Plot the Pearson residuals against the fitted values\n",
    "plot(fitted(lmodTr), pearson_residuals_tr, \n",
    "     xlab = \"Fitted Values\", \n",
    "     ylab = \"Pearson Residuals\",\n",
    "     main = \"Plot of Pearson Residuals vs. Fitted Values (Sqrt Transform)\")\n",
    "\n",
    "# Add a horizontal line at 0 for reference\n",
    "abline(h = 0, col = \"red\")\n"
   ]
  },
  {
   "cell_type": "code",
   "execution_count": 93,
   "id": "a7bbbd80-1d9f-4b86-95ff-cc3a9ed5e67c",
   "metadata": {},
   "outputs": [
    {
     "data": {
      "image/png": "[encoded data removed]",
      "text/plain": [
       "Plot with title \"Plot of Pearson Residuals vs. Fitted Values (Log Transform)\""
      ]
     },
     "metadata": {
      "image/png": {
       "height": 420,
       "width": 420
      }
     },
     "output_type": "display_data"
    }
   ],
   "source": [
    "# Apply square root transformation to both Lab and Field\n",
    "pipeline$LabTransform <- log(pipeline$Lab)  # Square root transformation for Lab\n",
    "pipeline$FieldTransform <- log(pipeline$Field)  # Square root transformation for Field\n",
    "\n",
    "# Alternatively, you could try log transformation by uncommenting these lines\n",
    "# pipeline$LabTransform <- log(pipeline$Lab)\n",
    "# pipeline$FieldTransform <- log(pipeline$Field)\n",
    "\n",
    "# Fit the transformed regression model\n",
    "lmodTr <- lm(LabTransform ~ FieldTransform, data = pipeline)\n",
    "\n",
    "# Get the Pearson residuals for the transformed model\n",
    "pearson_residuals_tr <- resid(lmodTr, type = \"pearson\")\n",
    "\n",
    "# Plot the Pearson residuals against the fitted values\n",
    "plot(fitted(lmodTr), pearson_residuals_tr, \n",
    "     xlab = \"Fitted Values\", \n",
    "     ylab = \"Pearson Residuals\",\n",
    "     main = \"Plot of Pearson Residuals vs. Fitted Values (Log Transform)\")\n",
    "\n",
    "# Add a horizontal line at 0 for reference\n",
    "abline(h = 0, col = \"red\")\n"
   ]
  },
  {
   "cell_type": "markdown",
   "id": "efce9e50-61c1-4999-907c-50879a656950",
   "metadata": {},
   "source": [
    "The residuals are much more spread out and the potential pattern in residuals is removed."
   ]
  },
  {
   "cell_type": "code",
   "execution_count": null,
   "id": "05bd094f-0c7f-4c4c-9a0b-1e8abaf29edd",
   "metadata": {},
   "outputs": [],
   "source": []
  }
 ],
 "metadata": {
  "kernelspec": {
   "display_name": "R",
   "language": "R",
   "name": "ir"
  },
  "language_info": {
   "codemirror_mode": "r",
   "file_extension": ".r",
   "mimetype": "text/x-r-source",
   "name": "R",
   "pygments_lexer": "r",
   "version": "4.4.3"
  }
 },
 "nbformat": 4,
 "nbformat_minor": 5
}
