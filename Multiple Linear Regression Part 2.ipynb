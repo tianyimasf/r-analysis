{
 "cells": [
  {
   "cell_type": "markdown",
   "id": "1e4af1f1-5b4b-4d53-94e0-496f7b261b5a",
   "metadata": {},
   "source": [
    "# Homework 4: Multiple Linear Regression\n",
    "***\n",
    "\n",
    "**Name**: \n",
    "\n",
    "***\n",
    "\n",
    "This assignment is due on Gradescope by **Friday February 21st at 5:00PM**. If you submit the assignment  by this deadline, you will receive 2 bonus points. If you need a little extra time, you may submit your work by **Monday February 24th at 5:00PM**. Your solutions to theoretical questions should be done in Markdown directly below the associated question.  Your solutions to computational questions should include any specified R code and results as well as written commentary on your conclusions.  Remember that you are encouraged to discuss the problems with your classmates, but **you must write all code and solutions on your own**.\n",
    "\n",
    "**NOTES**: \n",
    "\n",
    "- There are 2 total questions on this assignment. \n",
    "- If you're not familiar with typesetting math directly into Markdown then by all means, do your work on paper first and then typeset it later.  Remember that there is a [reference guide](https://math.meta.stackexchange.com/questions/5020/mathjax-basic-tutorial-and-quick-reference) linked here. **All** of your written commentary, justifications and mathematical work should be in Markdown.\n",
    "- Because you can technically evaluate notebook cells in a non-linear order, it's a good idea to do Kernel $\\rightarrow$ Restart & Run All as a check before submitting your solutions.  That way if we need to run your code you will know that it will work as expected. \n",
    "- It is **bad form** to make your reader interpret numerical output from your code.  If a question asks you to compute some value from the data you should show your code output **AND** write a summary of the results in Markdown directly below your code. \n",
    "- This probably goes without saying, but... For any question that asks you to calculate something, you **must show all work and justify your answers to receive credit**. Sparse or nonexistent work will receive sparse or nonexistent credit. \n",
    "\n",
    "\n",
    "\n",
    "---"
   ]
  },
  {
   "cell_type": "markdown",
   "id": "26764484-eafc-4aba-bea9-2d1d8f764a85",
   "metadata": {},
   "source": [
    "### Problem 1 <span style=\"color: #CFB87C;\">(STAT 5010 Students Only)</span> (50 Points) Trace of the hat matrix\n",
    "\n",
    "Define the trace of a square matrix \n",
    "\n",
    "$A = \\left(\\begin{matrix}\n",
    "a_{1,1} & a_{1,2} & \\cdots & a_{1,n} \\\\\n",
    "a_{2,1} & a_{2,2} & \\cdots & a_{2,n} \\\\\n",
    "\\vdots & \\vdots & \\ddots & \\vdots \\\\\n",
    "a_{n,1} & a_{n,2} & \\cdots & a_{n,n} \n",
    "\\end{matrix} \\right)$\n",
    "\n",
    "to be $tr(A) = \\sum^n_{i=1}a_{i,i}$, i.e., the sum of the diagonal elements of $A$.\n",
    "\n",
    "**PART A:** Let $B$ be a $m \\times n$ matrix and $C$ $n\\times m$ matrix. Prove that $tr(BC) = tr(CB).$"
   ]
  },
  {
   "cell_type": "markdown",
   "id": "6d04a5e2-5177-4db5-b6b0-e0d31907a202",
   "metadata": {},
   "source": [
    "**Answer**\n",
    "\n",
    "We can achieve this by first looking at individual diagonal elements from the same level in the two matrx multiplications. Let $D = BC$ and $E = CB$. Then by definition\n",
    "\n",
    "$$d_{i, i} = \\sum_{j=1}^nb_{i, j}c_{j, i} \\text{ for $i \\in {1, 2, \\cdots, m}$}$$\n",
    "$$e_{i, i} = \\sum_{j=1}^mc_{i, j}b_{j, i} \\text{ for $i \\in {1, 2, \\cdots, n}$}$$\n",
    "\n",
    "By definition $tr(A) = \\sum^n_{i=1}a_{i,i}$, so\n",
    "\n",
    "$$tr(D) = \\sum_{i=1}^md_{i, i} = \\sum_{i=1}^m\\sum_{j=1}^nb_{i, j}c_{j, i}$$\n",
    "$$tr(E) = \\sum_{i=1}^ne_{i, i} = \\sum_{i=1}^n\\sum_{j=1}^mc_{i, j}b_{j, i}$$\n",
    "\n",
    "Swap $j$ and $i$ for $tr(E)$ we have\n",
    "\n",
    "$$tr(E) = \\sum_{j=1}^ne_{j, j} = \\sum_{j=1}^n\\sum_{i=1}^mc_{j, i}b_{i, j} = \\sum_{i=1}^m\\sum_{j=1}^nb_{i, j}c_{j, i} = tr(D)$$"
   ]
  },
  {
   "cell_type": "markdown",
   "id": "e874b005-c18c-4a7f-b6cd-4a1523dabec0",
   "metadata": {},
   "source": [
    "**PART B:** Let $H$ be the hat matrix as defined in class. Prove that $tr(H) = p+1$, where $p$ is the number of parameters in the regression."
   ]
  },
  {
   "cell_type": "markdown",
   "id": "d09f8af5-a9e2-4db1-b283-3a327f18c61f",
   "metadata": {},
   "source": [
    "**Answer**\n",
    "\n",
    "$$\\begin{align*}tr(H) &= tr(X(X^TX)^{-1}X^T) \\\\\n",
    "                        &= tr(X(X^TX)^{-1}X^T) \\\\\n",
    "                        &= tr((X(X^TX)^{-1})X^T)) \\\\\n",
    "                        &= tr(X^T(X(X^TX)^{-1}))) \\\\\n",
    "                        &= tr((X^TX)(X^TX)^{-1})) \\\\\n",
    "                        &= tr((X^T_{(p+1) \\times n}X_{n \\times (p+1)})(X^T_{(p+1) \\times n}X_{n \\times (p+1)})^{-1}) \\text{ because we have p features plus 1 bias term}\\\\\n",
    "                        &= tr((X^TX)_{(p+1) \\times (p+1)}(X^TX)^{-1}_{(p+1) \\times (p+1)})\\\\\n",
    "                        &= tr(I_{(p+1) \\times (p+1)})\\\\\n",
    "                        &= p+1\\\\\n",
    "\\end{align*}$$"
   ]
  },
  {
   "cell_type": "markdown",
   "id": "4602a2fd-0362-42f0-bde5-568ed1f19142",
   "metadata": {},
   "source": [
    "---\n",
    "\n",
    "### Problem 2 - Multiple Linear Regression and Model Selection (50 points)"
   ]
  },
  {
   "cell_type": "markdown",
   "id": "dcbfd9ed-5e32-4aca-83af-13c23d34321d",
   "metadata": {},
   "source": [
    "We will further examine the `Fish.csv` dataset in this problem. \n",
    "\n",
    "\"This dataset is a record of 7 common different fish species in fish market sales. With this dataset, a predictive model can be performed using machine friendly data and estimate the weight of fish can be predicted.\"\n",
    "\n",
    "**Response**:\n",
    "- Weight (in grams)\n",
    "\n",
    "**Features**:\n",
    "- Length1 (vertical length in cm)\n",
    "- Length2 (diagonal length in cm)\n",
    "- Length3 (cross length in cm)\n",
    "- Height (in cm)\n",
    "- Width (diagonal width in cm)\n",
    "\n",
    "The species name of the fish is also given. "
   ]
  },
  {
   "cell_type": "markdown",
   "id": "4527c665-391f-4464-9fc8-5f03ee034302",
   "metadata": {},
   "source": [
    "**Part A**: Read the data from the csv.  As you are reading in `Fish.csv`, drop the species column as it is non-numerical.\n",
    "\n",
    "Also, make sure to re-order the columns so that the response variable is the last column."
   ]
  },
  {
   "cell_type": "code",
   "execution_count": 6,
   "id": "46acbe97-7edb-49e0-aab9-6570d4813814",
   "metadata": {},
   "outputs": [
    {
     "data": {
      "text/html": [
       "<table class=\"dataframe\">\n",
       "<caption>A data.frame: 6 × 6</caption>\n",
       "<thead>\n",
       "\t<tr><th></th><th scope=col>Weight</th><th scope=col>Length1</th><th scope=col>Length2</th><th scope=col>Length3</th><th scope=col>Height</th><th scope=col>Width</th></tr>\n",
       "\t<tr><th></th><th scope=col>&lt;dbl&gt;</th><th scope=col>&lt;dbl&gt;</th><th scope=col>&lt;dbl&gt;</th><th scope=col>&lt;dbl&gt;</th><th scope=col>&lt;dbl&gt;</th><th scope=col>&lt;dbl&gt;</th></tr>\n",
       "</thead>\n",
       "<tbody>\n",
       "\t<tr><th scope=row>1</th><td>242</td><td>23.2</td><td>25.4</td><td>30.0</td><td>11.5200</td><td>4.0200</td></tr>\n",
       "\t<tr><th scope=row>2</th><td>290</td><td>24.0</td><td>26.3</td><td>31.2</td><td>12.4800</td><td>4.3056</td></tr>\n",
       "\t<tr><th scope=row>3</th><td>340</td><td>23.9</td><td>26.5</td><td>31.1</td><td>12.3778</td><td>4.6961</td></tr>\n",
       "\t<tr><th scope=row>4</th><td>363</td><td>26.3</td><td>29.0</td><td>33.5</td><td>12.7300</td><td>4.4555</td></tr>\n",
       "\t<tr><th scope=row>5</th><td>430</td><td>26.5</td><td>29.0</td><td>34.0</td><td>12.4440</td><td>5.1340</td></tr>\n",
       "\t<tr><th scope=row>6</th><td>450</td><td>26.8</td><td>29.7</td><td>34.7</td><td>13.6024</td><td>4.9274</td></tr>\n",
       "</tbody>\n",
       "</table>\n"
      ],
      "text/latex": [
       "A data.frame: 6 × 6\n",
       "\\begin{tabular}{r|llllll}\n",
       "  & Weight & Length1 & Length2 & Length3 & Height & Width\\\\\n",
       "  & <dbl> & <dbl> & <dbl> & <dbl> & <dbl> & <dbl>\\\\\n",
       "\\hline\n",
       "\t1 & 242 & 23.2 & 25.4 & 30.0 & 11.5200 & 4.0200\\\\\n",
       "\t2 & 290 & 24.0 & 26.3 & 31.2 & 12.4800 & 4.3056\\\\\n",
       "\t3 & 340 & 23.9 & 26.5 & 31.1 & 12.3778 & 4.6961\\\\\n",
       "\t4 & 363 & 26.3 & 29.0 & 33.5 & 12.7300 & 4.4555\\\\\n",
       "\t5 & 430 & 26.5 & 29.0 & 34.0 & 12.4440 & 5.1340\\\\\n",
       "\t6 & 450 & 26.8 & 29.7 & 34.7 & 13.6024 & 4.9274\\\\\n",
       "\\end{tabular}\n"
      ],
      "text/markdown": [
       "\n",
       "A data.frame: 6 × 6\n",
       "\n",
       "| <!--/--> | Weight &lt;dbl&gt; | Length1 &lt;dbl&gt; | Length2 &lt;dbl&gt; | Length3 &lt;dbl&gt; | Height &lt;dbl&gt; | Width &lt;dbl&gt; |\n",
       "|---|---|---|---|---|---|---|\n",
       "| 1 | 242 | 23.2 | 25.4 | 30.0 | 11.5200 | 4.0200 |\n",
       "| 2 | 290 | 24.0 | 26.3 | 31.2 | 12.4800 | 4.3056 |\n",
       "| 3 | 340 | 23.9 | 26.5 | 31.1 | 12.3778 | 4.6961 |\n",
       "| 4 | 363 | 26.3 | 29.0 | 33.5 | 12.7300 | 4.4555 |\n",
       "| 5 | 430 | 26.5 | 29.0 | 34.0 | 12.4440 | 5.1340 |\n",
       "| 6 | 450 | 26.8 | 29.7 | 34.7 | 13.6024 | 4.9274 |\n",
       "\n"
      ],
      "text/plain": [
       "  Weight Length1 Length2 Length3 Height  Width \n",
       "1 242    23.2    25.4    30.0    11.5200 4.0200\n",
       "2 290    24.0    26.3    31.2    12.4800 4.3056\n",
       "3 340    23.9    26.5    31.1    12.3778 4.6961\n",
       "4 363    26.3    29.0    33.5    12.7300 4.4555\n",
       "5 430    26.5    29.0    34.0    12.4440 5.1340\n",
       "6 450    26.8    29.7    34.7    13.6024 4.9274"
      ]
     },
     "metadata": {},
     "output_type": "display_data"
    }
   ],
   "source": [
    "# Read the CSV file\n",
    "fish <- read.csv(\"Fish.csv\")\n",
    "\n",
    "# Drop the \"species\" column\n",
    "library(dplyr)\n",
    "fish <- fish %>% select(-Species)\n",
    "\n",
    "# View the resulting data\n",
    "head(fish)"
   ]
  },
  {
   "cell_type": "markdown",
   "id": "9b076d2c-f8c8-42ee-bc6f-7b4cd931ad72",
   "metadata": {},
   "source": [
    "**Part B:** Fit a multiple linear regression model to the data.\n",
    "\n",
    "- print the regression coeficients to the screen.\n",
    "\n",
    "- Use a Markdown cell to specify the MLR model in the form: $ \\hat{y} = \\beta_0+\\beta_1 X_1 + \\beta_2 X_2 + ... + \\beta_p X_p $"
   ]
  },
  {
   "cell_type": "code",
   "execution_count": 15,
   "id": "04874a01-cdba-4d1c-b9f4-6d49e189a02c",
   "metadata": {
    "scrolled": true
   },
   "outputs": [
    {
     "data": {
      "text/plain": [
       "\n",
       "Call:\n",
       "lm(formula = Weight ~ Length1 + Length2 + Length3 + Height + \n",
       "    Width, data = fish)\n",
       "\n",
       "Residuals:\n",
       "    Min      1Q  Median      3Q     Max \n",
       "-243.69  -65.10  -25.52   57.98  447.25 \n",
       "\n",
       "Coefficients:\n",
       "            Estimate Std. Error t value Pr(>|t|)    \n",
       "(Intercept) -499.587     29.572 -16.894  < 2e-16 ***\n",
       "Length1       62.355     40.209   1.551  0.12302    \n",
       "Length2       -6.527     41.759  -0.156  0.87601    \n",
       "Length3      -29.026     17.353  -1.673  0.09643 .  \n",
       "Height        28.297      8.729   3.242  0.00146 ** \n",
       "Width         22.473     20.372   1.103  0.27169    \n",
       "---\n",
       "Signif. codes:  0 '***' 0.001 '**' 0.01 '*' 0.05 '.' 0.1 ' ' 1\n",
       "\n",
       "Residual standard error: 123.2 on 153 degrees of freedom\n",
       "Multiple R-squared:  0.8853,\tAdjusted R-squared:  0.8815 \n",
       "F-statistic: 236.2 on 5 and 153 DF,  p-value: < 2.2e-16\n"
      ]
     },
     "metadata": {},
     "output_type": "display_data"
    }
   ],
   "source": [
    "model <- lm(Weight ~ Length1 + Length2 + Length3 + Height + Width, data = fish)\n",
    "\n",
    "# View the model summary to get details about the regression coefficients, R-squared, etc.\n",
    "summary(model)"
   ]
  },
  {
   "cell_type": "markdown",
   "id": "c0781595-d424-4eea-ab78-8babbf962984",
   "metadata": {},
   "source": [
    "**Answer** \n",
    "\n",
    "The MLR model is: $\\hat{Weight} = -499.587+62.355 Length1 -6.527 Length2 + -29.026 Length3 + 28.297 Height + 22.473 Width$"
   ]
  },
  {
   "cell_type": "markdown",
   "id": "d026e650-b16c-40ec-a330-d5b271ef7d25",
   "metadata": {},
   "source": [
    "**Part C**: Perform the appropriate statistical hypothesis test at the $\\alpha = 0.01$ significance level to determine if _at least one_ of the features is related to the the response $y$.  "
   ]
  },
  {
   "cell_type": "markdown",
   "id": "b97bd719-2345-49d9-a77e-d0d1d80eb715",
   "metadata": {},
   "source": [
    "**Answer**\n",
    "\n",
    "The p-value for Height is 0.00146 < 0.01 and passed the hypothesis test."
   ]
  },
  {
   "cell_type": "code",
   "execution_count": null,
   "id": "7ba406e5-79b4-49a9-8b0f-2470c14dcf44",
   "metadata": {},
   "outputs": [],
   "source": []
  },
  {
   "cell_type": "markdown",
   "id": "e9392681-08c1-42ff-a94f-710aec83dcd2",
   "metadata": {},
   "source": [
    "**Part D**: Write a function `forward_select(df, resp_str, maxk)` that takes in the DataFrame, the name of the column corresponding to the response, and the maximum number of desired features, and returns a list of feature names corresponding to the `maxk` most important features via forward selection.  At each stage in forward selection you should add the feature whose inclusion in the model would result in the lowest sum of squared errors $(SSE)$. Use your function to determine the best $k=3$ features to include in the model. Clearly indicate which feature was added in each stage. \n",
    "\n",
    "**Note**: The point of this exercise is to see if you can implement **foward_select** yourself.  You may not call any R method that explicitly performs forward selection."
   ]
  },
  {
   "cell_type": "code",
   "execution_count": 66,
   "id": "98e1ac84-9743-43dc-928a-f622ad4c60f2",
   "metadata": {},
   "outputs": [],
   "source": [
    "forward_select <- function(df, resp_str, maxk) {\n",
    "\n",
    "    res_str <- character(0)\n",
    "\n",
    "    for (i in 1:maxk){\n",
    "        if (length(res_str) == 0) {\n",
    "            model <- lm(Weight ~ 1, data = df)\n",
    "        } else {\n",
    "            formula <- as.formula(paste(\"Weight ~\", paste(res_str, collapse = \" + \")))\n",
    "            model <- lm(formula, data = df)\n",
    "        }\n",
    "        residuals <- model$residuals\n",
    "        SSE <- sum(residuals^2)\n",
    "\n",
    "        best_SSE_improvement <- 0\n",
    "        best_col <- \"\"\n",
    "\n",
    "        for (colname in resp_str) {\n",
    "            cols <- c(res_str, colname)\n",
    "            formula <- as.formula(paste(\"Weight ~\", paste(cols, collapse = \" + \")))\n",
    "            model <- lm(formula, data = df)\n",
    "            residuals_curr <- model$residuals\n",
    "            SSE_curr <- sum(residuals_curr^2)\n",
    "            if (SSE - SSE_curr > best_SSE_improvement) {\n",
    "                best_SSE_improvement <- SSE - SSE_curr\n",
    "                best_col <- colname\n",
    "            }\n",
    "        }\n",
    "        res_str <- c(res_str, best_col)\n",
    "    }\n",
    "\n",
    "    return(res_str)\n",
    "}"
   ]
  },
  {
   "cell_type": "markdown",
   "id": "fd56ec85-5f6f-4b18-b722-44e9c326702a",
   "metadata": {},
   "source": [
    "**Part E**: Write down the reduced multiple linear regression model, including estimated parameters, obtained by your forward selection process. "
   ]
  },
  {
   "cell_type": "code",
   "execution_count": 67,
   "id": "0c5c22df-f966-4e91-8126-d94644e71097",
   "metadata": {},
   "outputs": [
    {
     "data": {
      "text/plain": [
       "\n",
       "Call:\n",
       "lm(formula = formula, data = fish)\n",
       "\n",
       "Residuals:\n",
       "    Min      1Q  Median      3Q     Max \n",
       "-246.79  -77.57  -33.26   82.47  453.51 \n",
       "\n",
       "Coefficients:\n",
       "            Estimate Std. Error t value Pr(>|t|)    \n",
       "(Intercept) -521.000     29.331 -17.763  < 2e-16 ***\n",
       "Length3       19.445      1.812  10.728  < 2e-16 ***\n",
       "Width         62.833     14.560   4.315 2.83e-05 ***\n",
       "Height         3.853      3.849   1.001    0.318    \n",
       "---\n",
       "Signif. codes:  0 '***' 0.001 '**' 0.01 '*' 0.05 '.' 0.1 ' ' 1\n",
       "\n",
       "Residual standard error: 126.3 on 155 degrees of freedom\n",
       "Multiple R-squared:  0.8778,\tAdjusted R-squared:  0.8755 \n",
       "F-statistic: 371.3 on 3 and 155 DF,  p-value: < 2.2e-16\n"
      ]
     },
     "metadata": {},
     "output_type": "display_data"
    }
   ],
   "source": [
    "# Get the column names of the dataframe and store them in a vector\n",
    "col_vector <- colnames(fish)\n",
    "\n",
    "# Remove 'Weight' from the vector (without affecting the dataframe)\n",
    "resp_str <- col_vector[col_vector != \"Weight\"]\n",
    "\n",
    "maxk <- 3\n",
    "selected_colnames <- forward_select(fish, resp_str, maxk)\n",
    "formula <- as.formula(paste(\"Weight ~\", paste(selected_colnames, collapse = \" + \")))\n",
    "model <- lm(formula, data = fish)\n",
    "\n",
    "summary(model)"
   ]
  },
  {
   "cell_type": "markdown",
   "id": "b008f7b2-f930-471d-b509-80774407d0d8",
   "metadata": {},
   "source": [
    "**Answer** \n",
    "\n",
    "The MLR model is: $\\hat{Weight} = -521+19.445 Length3 + 62.833 Width + 3.853 Height$"
   ]
  },
  {
   "cell_type": "code",
   "execution_count": null,
   "id": "64168c3c-a442-4eb3-9360-dcf47b8f2952",
   "metadata": {},
   "outputs": [],
   "source": []
  }
 ],
 "metadata": {
  "kernelspec": {
   "display_name": "R",
   "language": "R",
   "name": "ir"
  },
  "language_info": {
   "codemirror_mode": "r",
   "file_extension": ".r",
   "mimetype": "text/x-r-source",
   "name": "R",
   "pygments_lexer": "r",
   "version": "4.4.3"
  }
 },
 "nbformat": 4,
 "nbformat_minor": 5
}
