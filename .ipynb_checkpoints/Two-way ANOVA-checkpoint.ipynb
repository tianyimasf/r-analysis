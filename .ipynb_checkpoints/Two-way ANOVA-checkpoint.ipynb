{
 "cells": [
  {
   "cell_type": "markdown",
   "id": "dd1bae55-301f-49f1-934d-54f74c073b54",
   "metadata": {},
   "source": [
    "# Homework 6: Two-way ANOVA\n",
    "***\n",
    "\n",
    "**Name**: Alex Ma\n",
    "\n",
    "***\n",
    "\n",
    "This assignment is due on Gradescope by **Friday March 21 at 5:00PM**. If you submit the assignment  by this deadline, you will receive 2 bonus points. If you need a little extra time, you may submit your work by **Monday March 24 at 5:00PM**. Your solutions to theoretical questions should be done in Markdown directly below the associated question.  Your solutions to computational questions should include any specified R code and results as well as written commentary on your conclusions.  Remember that you are encouraged to discuss the problems with your classmates, but **you must write all code and solutions on your own**.\n",
    "\n",
    "**NOTES**: \n",
    "\n",
    "- There is 1 total question on this assignment. \n",
    "- If you're not familiar with typesetting math directly into Markdown then by all means, do your work on paper first and then typeset it later.  Remember that there is a [reference guide](https://math.meta.stackexchange.com/questions/5020/mathjax-basic-tutorial-and-quick-reference) linked here. **All** of your written commentary, justifications and mathematical work should be in Markdown.\n",
    "- Because you can technically evaluate notebook cells in a non-linear order, it's a good idea to do Kernel $\\rightarrow$ Restart & Run All as a check before submitting your solutions.  That way if we need to run your code you will know that it will work as expected. \n",
    "- It is **bad form** to make your reader interpret numerical output from your code.  If a question asks you to compute some value from the data you should show your code output **AND** write a summary of the results in Markdown directly below your code. \n",
    "- This probably goes without saying, but... For any question that asks you to calculate something, you **must show all work and justify your answers to receive credit**. Sparse or nonexistent work will receive sparse or nonexistent credit. \n",
    "\n",
    "\n",
    "\n",
    "---"
   ]
  },
  {
   "cell_type": "markdown",
   "id": "fb77ff51-28eb-4250-b2b7-b19c165f5048",
   "metadata": {},
   "source": [
    "## Problem 1 (100 points)"
   ]
  },
  {
   "cell_type": "markdown",
   "id": "e022ad22-ceee-4416-b395-120236274b88",
   "metadata": {},
   "source": [
    "**PART A:** Load in the data set, `MathGender.csv`\n",
    "\n",
    "This dataset comes from: https://www.stat.cmu.edu/~hseltman/309/Book/chapter11.pdf\n",
    "\n",
    "Here is some information about this dataset:\n",
    "\"The data in MathGender.csv are from an observational study carried out to investigate the relationship between the ACT Math Usage Test and the explanatory gender (1=female, 2=male) and level of mathematics coursework taken (1=algebra only, 2=algebra+geometry, 3=through calculus) for 861 high school seniors. The outcome, ACT score, ranges from 0 to 36 with a median of 15 and a mean of 15.33. An analysis of these data ... can be called a 3x2 ANOVA because those are the numbers of levels of the two categorical explanatory variables.\"\n",
    "\n",
    "Perform some EDA and answer the following questions. Explicitly, I would like you to provide/answer the following:\n",
    "\n",
    "- Change the levels for each variable from 1,2 to `female`, `male` and 1,2,3 to `algebra`, `algebra+geometry`, `calculus` respectively. The built-in `factor()` function will be helpful here.\n",
    "\n",
    "- Create a frequency table (cross-tabulation table) that shows the number of subjects in each math/gender category. Please have the rows be the number of math classes taken and the columns be the genders given. Please note that I am using the same categories and names that the dataset provides; we are bound by the definitions of the categories as they are given.\n",
    "\n",
    "- Boxplots for both Math and Gender categories (there should be a total of 6). \n",
    "\n",
    "- Is this a balanced design experiment? Or an unbalanced design experiment?"
   ]
  },
  {
   "cell_type": "code",
   "execution_count": 5,
   "id": "a7bbbd80-1d9f-4b86-95ff-cc3a9ed5e67c",
   "metadata": {},
   "outputs": [
    {
     "name": "stderr",
     "output_type": "stream",
     "text": [
      "\u001b[1mRows: \u001b[22m\u001b[34m861\u001b[39m \u001b[1mColumns: \u001b[22m\u001b[34m3\u001b[39m\n",
      "\u001b[36m──\u001b[39m \u001b[1mColumn specification\u001b[22m \u001b[36m────────────────────────────────────────────────────────────────────────────────────────────────\u001b[39m\n",
      "\u001b[1mDelimiter:\u001b[22m \",\"\n",
      "\u001b[32mdbl\u001b[39m (3): score, courses, gender\n",
      "\n",
      "\u001b[36mℹ\u001b[39m Use `spec()` to retrieve the full column specification for this data.\n",
      "\u001b[36mℹ\u001b[39m Specify the column types or set `show_col_types = FALSE` to quiet this message.\n"
     ]
    },
    {
     "data": {
      "text/html": [
       "<table class=\"dataframe\">\n",
       "<caption>A tibble: 6 × 3</caption>\n",
       "<thead>\n",
       "\t<tr><th scope=col>score</th><th scope=col>courses</th><th scope=col>gender</th></tr>\n",
       "\t<tr><th scope=col>&lt;dbl&gt;</th><th scope=col>&lt;dbl&gt;</th><th scope=col>&lt;dbl&gt;</th></tr>\n",
       "</thead>\n",
       "<tbody>\n",
       "\t<tr><td> 5</td><td>1</td><td>2</td></tr>\n",
       "\t<tr><td>13</td><td>1</td><td>2</td></tr>\n",
       "\t<tr><td> 7</td><td>1</td><td>2</td></tr>\n",
       "\t<tr><td>20</td><td>1</td><td>2</td></tr>\n",
       "\t<tr><td>11</td><td>1</td><td>2</td></tr>\n",
       "\t<tr><td>16</td><td>1</td><td>2</td></tr>\n",
       "</tbody>\n",
       "</table>\n"
      ],
      "text/latex": [
       "A tibble: 6 × 3\n",
       "\\begin{tabular}{lll}\n",
       " score & courses & gender\\\\\n",
       " <dbl> & <dbl> & <dbl>\\\\\n",
       "\\hline\n",
       "\t  5 & 1 & 2\\\\\n",
       "\t 13 & 1 & 2\\\\\n",
       "\t  7 & 1 & 2\\\\\n",
       "\t 20 & 1 & 2\\\\\n",
       "\t 11 & 1 & 2\\\\\n",
       "\t 16 & 1 & 2\\\\\n",
       "\\end{tabular}\n"
      ],
      "text/markdown": [
       "\n",
       "A tibble: 6 × 3\n",
       "\n",
       "| score &lt;dbl&gt; | courses &lt;dbl&gt; | gender &lt;dbl&gt; |\n",
       "|---|---|---|\n",
       "|  5 | 1 | 2 |\n",
       "| 13 | 1 | 2 |\n",
       "|  7 | 1 | 2 |\n",
       "| 20 | 1 | 2 |\n",
       "| 11 | 1 | 2 |\n",
       "| 16 | 1 | 2 |\n",
       "\n"
      ],
      "text/plain": [
       "  score courses gender\n",
       "1  5    1       2     \n",
       "2 13    1       2     \n",
       "3  7    1       2     \n",
       "4 20    1       2     \n",
       "5 11    1       2     \n",
       "6 16    1       2     "
      ]
     },
     "metadata": {},
     "output_type": "display_data"
    }
   ],
   "source": [
    "# Load necessary library\n",
    "library(readr)\n",
    "\n",
    "# Load the CSV file\n",
    "math_gender <- read_csv(\"MathGender.csv\")\n",
    "\n",
    "# Display the first few rows\n",
    "head(math_gender)"
   ]
  },
  {
   "cell_type": "code",
   "execution_count": 6,
   "id": "d580bb8d-fcb5-44f5-aa74-bbcd58b40036",
   "metadata": {},
   "outputs": [
    {
     "data": {
      "text/html": [
       "<table class=\"dataframe\">\n",
       "<caption>A tibble: 6 × 3</caption>\n",
       "<thead>\n",
       "\t<tr><th scope=col>score</th><th scope=col>courses</th><th scope=col>gender</th></tr>\n",
       "\t<tr><th scope=col>&lt;dbl&gt;</th><th scope=col>&lt;chr&gt;</th><th scope=col>&lt;chr&gt;</th></tr>\n",
       "</thead>\n",
       "<tbody>\n",
       "\t<tr><td> 5</td><td>algebra</td><td>male</td></tr>\n",
       "\t<tr><td>13</td><td>algebra</td><td>male</td></tr>\n",
       "\t<tr><td> 7</td><td>algebra</td><td>male</td></tr>\n",
       "\t<tr><td>20</td><td>algebra</td><td>male</td></tr>\n",
       "\t<tr><td>11</td><td>algebra</td><td>male</td></tr>\n",
       "\t<tr><td>16</td><td>algebra</td><td>male</td></tr>\n",
       "</tbody>\n",
       "</table>\n"
      ],
      "text/latex": [
       "A tibble: 6 × 3\n",
       "\\begin{tabular}{lll}\n",
       " score & courses & gender\\\\\n",
       " <dbl> & <chr> & <chr>\\\\\n",
       "\\hline\n",
       "\t  5 & algebra & male\\\\\n",
       "\t 13 & algebra & male\\\\\n",
       "\t  7 & algebra & male\\\\\n",
       "\t 20 & algebra & male\\\\\n",
       "\t 11 & algebra & male\\\\\n",
       "\t 16 & algebra & male\\\\\n",
       "\\end{tabular}\n"
      ],
      "text/markdown": [
       "\n",
       "A tibble: 6 × 3\n",
       "\n",
       "| score &lt;dbl&gt; | courses &lt;chr&gt; | gender &lt;chr&gt; |\n",
       "|---|---|---|\n",
       "|  5 | algebra | male |\n",
       "| 13 | algebra | male |\n",
       "|  7 | algebra | male |\n",
       "| 20 | algebra | male |\n",
       "| 11 | algebra | male |\n",
       "| 16 | algebra | male |\n",
       "\n"
      ],
      "text/plain": [
       "  score courses gender\n",
       "1  5    algebra male  \n",
       "2 13    algebra male  \n",
       "3  7    algebra male  \n",
       "4 20    algebra male  \n",
       "5 11    algebra male  \n",
       "6 16    algebra male  "
      ]
     },
     "metadata": {},
     "output_type": "display_data"
    }
   ],
   "source": [
    "library(dplyr)\n",
    "\n",
    "# Convert numerical values to text labels\n",
    "math_gender <- math_gender %>%\n",
    "  mutate(\n",
    "    gender = recode(gender, `1` = \"female\", `2` = \"male\"),\n",
    "    courses = recode(courses, `1` = \"algebra\", `2` = \"algebra+geometry\", `3` = \"calculus\")\n",
    "  )\n",
    "\n",
    "head(math_gender)"
   ]
  },
  {
   "cell_type": "code",
   "execution_count": 7,
   "id": "5535e7d4-2917-4713-8cc6-f41cac9558ed",
   "metadata": {},
   "outputs": [
    {
     "name": "stdout",
     "output_type": "stream",
     "text": [
      "                  \n",
      "                   female male\n",
      "  algebra              82   48\n",
      "  algebra+geometry    387  223\n",
      "  calculus             54   67\n"
     ]
    }
   ],
   "source": [
    "# Create a cross-tabulation table\n",
    "math_gender_table <- table(math_gender$courses, math_gender$gender)\n",
    "\n",
    "# Print the table\n",
    "print(math_gender_table)"
   ]
  },
  {
   "cell_type": "code",
   "execution_count": 15,
   "id": "75a9b932-9da5-44e2-ba77-453677d80e49",
   "metadata": {},
   "outputs": [
    {
     "data": {
      "image/png": "[encoded data removed]",
      "text/plain": [
       "plot without title"
      ]
     },
     "metadata": {
      "image/png": {
       "height": 420,
       "width": 420
      }
     },
     "output_type": "display_data"
    }
   ],
   "source": [
    "library(ggplot2)\n",
    "\n",
    "# Create boxplots for Math scores by Gender and Coursework\n",
    "ggplot(math_gender, aes(x = gender, y = score, fill = gender)) +\n",
    "  geom_boxplot() +\n",
    "  facet_wrap(~courses) +  # Creates separate plots for each coursework category\n",
    "  labs(title = \"Math Scores by Gender and Coursework\", x = \"Gender\", y = \"Math Score\") +\n",
    "  theme_minimal() +\n",
    "  scale_fill_manual(values = c(\"female\" = \"#E69F00\", \"male\" = \"#009E73\"))"
   ]
  },
  {
   "cell_type": "markdown",
   "id": "cc44f13d-85f3-493e-a09d-ca28626c5959",
   "metadata": {},
   "source": [
    "**Answer**: This is not balanced because more females are in algebra only and algebra+geometry math level. At the same time, there're less female students in the calculus class than male."
   ]
  },
  {
   "cell_type": "markdown",
   "id": "5526d219-a302-4906-9efb-503306f3bce6",
   "metadata": {},
   "source": [
    "**PART B:** \n",
    "\n",
    "- Make an interaction plot (aka profile plot). Specify that `courses` is the x factor and `gender` is the trace factor.\n",
    "\n",
    "- Compute the mean and the confidence interval of the mean by groups and summarize this information in a table\n",
    "\n",
    "- Based on the interaction plot and the confidence intervals in the table, do you think an additive model or an interaction model is the best way of proceeding? Why?"
   ]
  },
  {
   "cell_type": "code",
   "execution_count": 25,
   "id": "a3a7a918-cd46-42e6-9a16-2d20b0c952f4",
   "metadata": {},
   "outputs": [
    {
     "data": {
      "image/png": "[encoded data removed]",
      "text/plain": [
       "Plot with title \"Interaction Plot of Math Scores by Courses and Gender\""
      ]
     },
     "metadata": {
      "image/png": {
       "height": 420,
       "width": 420
      }
     },
     "output_type": "display_data"
    }
   ],
   "source": [
    "# Create the interaction plot\n",
    "interaction.plot(x.factor = math_gender$courses, \n",
    "                 trace.factor = math_gender$gender, \n",
    "                 response = math_gender$score, \n",
    "                 type = \"b\",          # 'b' means both points and lines\n",
    "                 pch = 19,            # Point character (solid circle)\n",
    "                 col = c(\"#E69F00\", \"#009E73\"),  # Colors: orange for female, green for male\n",
    "                 xlab = \"Courses\", \n",
    "                 ylab = \"Math Score\", \n",
    "                 main = \"Interaction Plot of Math Scores by Courses and Gender\",\n",
    "                 legend = FALSE)  # Remove the legend\n",
    "\n",
    "# Manually add a legend with the title 'Gender'\n",
    "legend(\"right\", legend = c(\"Female\", \"Male\"), \n",
    "       fill = c(\"#E69F00\", \"#009E73\"), \n",
    "       title = \"Gender\")"
   ]
  },
  {
   "cell_type": "code",
   "execution_count": 27,
   "id": "21d7fc8f-1e6b-4822-b048-357c26d2fa08",
   "metadata": {},
   "outputs": [
    {
     "name": "stdout",
     "output_type": "stream",
     "text": [
      "\u001b[90m# A tibble: 6 × 5\u001b[39m\n",
      "  gender courses           Mean CI_Lower CI_Upper\n",
      "  \u001b[3m\u001b[90m<chr>\u001b[39m\u001b[23m  \u001b[3m\u001b[90m<chr>\u001b[39m\u001b[23m            \u001b[3m\u001b[90m<dbl>\u001b[39m\u001b[23m    \u001b[3m\u001b[90m<dbl>\u001b[39m\u001b[23m    \u001b[3m\u001b[90m<dbl>\u001b[39m\u001b[23m\n",
      "\u001b[90m1\u001b[39m female algebra           9.07     8.15     9.99\n",
      "\u001b[90m2\u001b[39m female algebra+geometry 14.0     13.5     14.5 \n",
      "\u001b[90m3\u001b[39m female calculus         24.6     23.3     26.0 \n",
      "\u001b[90m4\u001b[39m male   algebra          11.5      9.98    12.9 \n",
      "\u001b[90m5\u001b[39m male   algebra+geometry 15.6     14.9     16.2 \n",
      "\u001b[90m6\u001b[39m male   calculus         25.4     24.1     26.8 \n"
     ]
    }
   ],
   "source": [
    "# Function to compute mean and confidence interval\n",
    "compute_summary <- function(data) {\n",
    "  # Compute the mean\n",
    "  mean_value <- mean(data$score, na.rm = TRUE)\n",
    "  \n",
    "  # Compute the 95% confidence interval using t.test\n",
    "  ci <- t.test(data$score)$conf.int\n",
    "  \n",
    "  # Return a tibble with mean and confidence interval\n",
    "  return(tibble(\n",
    "    Mean = mean_value,\n",
    "    CI_Lower = ci[1],\n",
    "    CI_Upper = ci[2]\n",
    "  ))\n",
    "}\n",
    "\n",
    "# Summarize by gender and courses\n",
    "summary_table <- math_gender %>%\n",
    "  group_by(gender, courses) %>%\n",
    "  do(compute_summary(.)) %>%\n",
    "  ungroup()\n",
    "\n",
    "# Print the summary table\n",
    "print(summary_table)"
   ]
  },
  {
   "cell_type": "markdown",
   "id": "a066de18-a465-4def-9e7c-63394a1d4dfb",
   "metadata": {},
   "source": [
    "**Answer**: we should use an interactive model because the first two means of female groups (algebra only and algebra+geometry) lie outside of the CI of the mean of the first two male groups. "
   ]
  },
  {
   "cell_type": "markdown",
   "id": "5734c534-99b4-495e-874c-27717674777a",
   "metadata": {},
   "source": [
    "**PART C:** Perform a two-way ANOVA with interaction on the dataset. Please use the `aov()` function to do this and print out the ANOVA table (this is the table with the various sums of squares, degrees of freedom, F-statistics, and p-values).\n",
    "\n",
    "- What are the three hypotheses that we should test with this table?\n",
    "\n",
    "- Based on the ANOVA results, what are the conclusions of each of these three hypothesis tests?"
   ]
  },
  {
   "cell_type": "code",
   "execution_count": 29,
   "id": "324bb971-bb54-4d91-9660-f1578d226fa1",
   "metadata": {},
   "outputs": [
    {
     "data": {
      "text/plain": [
       "                Df Sum Sq Mean Sq F value   Pr(>F)    \n",
       "gender           1   1431    1431  58.586 5.25e-14 ***\n",
       "courses          2  14705    7352 301.112  < 2e-16 ***\n",
       "gender:courses   2     38      19   0.771    0.463    \n",
       "Residuals      855  20877      24                     \n",
       "---\n",
       "Signif. codes:  0 '***' 0.001 '**' 0.01 '*' 0.05 '.' 0.1 ' ' 1"
      ]
     },
     "metadata": {},
     "output_type": "display_data"
    }
   ],
   "source": [
    "# Perform two-way ANOVA with interaction between gender and courses\n",
    "anova_model <- aov(score ~ gender * courses, data = math_gender)\n",
    "\n",
    "# Print the ANOVA table\n",
    "summary(anova_model)"
   ]
  },
  {
   "cell_type": "markdown",
   "id": "f049810b-5b61-4638-9029-44e180a78e8f",
   "metadata": {},
   "source": [
    "**Answer**\n",
    "\n",
    "1. Effects of Gender:\n",
    "    - Null Hypothesis ($H_0$): different genders contributed to a real difference in the math scores. \n",
    "    - Alternative Hypothesis ($H_1$): different genders didn't contribute to a real difference in the math scores.\n",
    "\n",
    "**Conclusion:** because `p-value = 5.25e-14`, we reject the null hypothesis and conclude that gender has a significant contribution to math scores. \n",
    "\n",
    "2. Effects of Math Course Levels:\n",
    "    - Null Hypothesis ($H_0$): different math course level taken contributed to a real difference in the math scores. \n",
    "    - Alternative Hypothesis ($H_1$): different math course level taken didn't contribute to a real difference in the math scores.\n",
    "\n",
    "**Conclusion:** because `p-value < 2e-16`, we reject the null hypothesis and conclude that math course level has a significant contribution to math scores. \n",
    "\n",
    "3. Interaction Effect Between Gender and Math Course Levels:\n",
    "    - Null Hypothesis ($H_0$): There is no significant interaction effect between gender and math course level taken on the math scores.\n",
    "    - Alternative Hypothesis ($H_1$): There is a significant interaction effect between gender and math course level taken on the math scores.\n",
    "\n",
    "**Conclusion:** because `p-value < 0.463`, we reject the null hypothesis and conclude that the interaction effect between gender and math course level don't have a significant contribution to math scores. "
   ]
  },
  {
   "cell_type": "markdown",
   "id": "1ccca42f-50f5-489e-a6c2-946f6b5e0345",
   "metadata": {},
   "source": [
    "**PART D:** Remove the interaction and re-do the two-way ANOVA. Print out the ANOVA table again as you did in Part C. \n",
    "\n",
    "- What is different in this additive (non-interaction) model? "
   ]
  },
  {
   "cell_type": "code",
   "execution_count": 31,
   "id": "0a27e19d-ab55-4018-9c25-e5a61cc8916f",
   "metadata": {},
   "outputs": [
    {
     "data": {
      "text/plain": [
       "             Df Sum Sq Mean Sq F value   Pr(>F)    \n",
       "gender        1   1431    1431   58.62 5.16e-14 ***\n",
       "courses       2  14705    7352  301.27  < 2e-16 ***\n",
       "Residuals   857  20914      24                     \n",
       "---\n",
       "Signif. codes:  0 '***' 0.001 '**' 0.01 '*' 0.05 '.' 0.1 ' ' 1"
      ]
     },
     "metadata": {},
     "output_type": "display_data"
    }
   ],
   "source": [
    "# Perform two-way ANOVA without the interaction term\n",
    "anova_model_no_interaction <- aov(score ~ gender + courses, data = math_gender)\n",
    "\n",
    "# Print the ANOVA table\n",
    "summary(anova_model_no_interaction)"
   ]
  },
  {
   "cell_type": "markdown",
   "id": "921dfadd-b54e-4fed-98f7-15368c7289bc",
   "metadata": {},
   "source": [
    "**Answer**\n",
    "\n",
    "There might be no statistical difference between the two models in terms of their conclusions regarding the significance of the factors. However, the interpretation of the effect significance might be different.\n",
    "\n",
    "In the interaction model, the main effects of gender and courses are interpreted conditionally, meaning they are influenced by the interaction between the two factors. In other words, the effect of gender on math_score depends on the level of courses, and vice versa.\n",
    "\n",
    "In the main effects-only model, the interpretation of gender and courses is independent, meaning each factor is assumed to have a uniform effect on math scores, regardless of the other factor."
   ]
  },
  {
   "cell_type": "markdown",
   "id": "1ff60c8a-3365-4501-8173-5f82b9058788",
   "metadata": {},
   "source": [
    "**PART E:** Use diagnostic tools to determine whether the error in the interaction model satisfies the constant variance assumption and the normality assumption. Justify your findings with both a plot and a formal test."
   ]
  },
  {
   "cell_type": "code",
   "execution_count": 32,
   "id": "b7914914-e5b1-4443-a61f-f6a1c8cab37c",
   "metadata": {},
   "outputs": [],
   "source": [
    "anova_model_interaction <- aov(score ~ gender * courses, data = math_gender)\n",
    "residuals <- residuals(anova_model_interaction)"
   ]
  },
  {
   "cell_type": "code",
   "execution_count": 33,
   "id": "385bd70e-a195-4c33-9c34-26943d996967",
   "metadata": {},
   "outputs": [
    {
     "data": {
      "image/png": "[encoded data removed]",
      "text/plain": [
       "Plot with title \"Residuals vs Fitted Values\""
      ]
     },
     "metadata": {
      "image/png": {
       "height": 420,
       "width": 420
      }
     },
     "output_type": "display_data"
    }
   ],
   "source": [
    "plot(fitted(anova_model_interaction), residuals, \n",
    "     main = \"Residuals vs Fitted Values\", \n",
    "     xlab = \"Fitted Values\", \n",
    "     ylab = \"Residuals\")\n",
    "abline(h = 0, col = \"red\")"
   ]
  },
  {
   "cell_type": "code",
   "execution_count": 34,
   "id": "a2979378-f8c6-42cb-8b27-2df4a7495d7e",
   "metadata": {},
   "outputs": [
    {
     "data": {
      "image/png": "[encoded data removed]",
      "text/plain": [
       "Plot with title \"Normal Q-Q Plot\""
      ]
     },
     "metadata": {
      "image/png": {
       "height": 420,
       "width": 420
      }
     },
     "output_type": "display_data"
    }
   ],
   "source": [
    "qqnorm(residuals)\n",
    "qqline(residuals, col = \"red\")"
   ]
  },
  {
   "cell_type": "markdown",
   "id": "f3cbf1e5-1d28-4948-bb94-83de63bdd53f",
   "metadata": {},
   "source": [
    "**Answer**\n",
    "\n",
    "The interaction model satisfied the normality of residual assumption (according to the Q-Q plot) but not constant variance assumption, because in the residual scatter plot scores around 20 are missing from the graph."
   ]
  },
  {
   "cell_type": "code",
   "execution_count": null,
   "id": "d4559b7c-4b39-4111-aa3d-49c208e7d4fe",
   "metadata": {},
   "outputs": [],
   "source": []
  }
 ],
 "metadata": {
  "kernelspec": {
   "display_name": "R",
   "language": "R",
   "name": "ir"
  },
  "language_info": {
   "codemirror_mode": "r",
   "file_extension": ".r",
   "mimetype": "text/x-r-source",
   "name": "R",
   "pygments_lexer": "r",
   "version": "4.4.3"
  }
 },
 "nbformat": 4,
 "nbformat_minor": 5
}
